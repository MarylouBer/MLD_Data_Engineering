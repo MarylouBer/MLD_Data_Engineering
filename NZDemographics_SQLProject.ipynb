{
  "nbformat": 4,
  "nbformat_minor": 0,
  "metadata": {
    "colab": {
      "provenance": [],
      "authorship_tag": "ABX9TyNBVc2kGeMTKpP08t6nRSK1",
      "include_colab_link": true
    },
    "kernelspec": {
      "name": "python3",
      "display_name": "Python 3"
    },
    "language_info": {
      "name": "python"
    }
  },
  "cells": [
    {
      "cell_type": "markdown",
      "metadata": {
        "id": "view-in-github",
        "colab_type": "text"
      },
      "source": [
        "<a href=\"https://colab.research.google.com/github/MarylouBer/MLD_Data_Engineering/blob/main/NZDemographics_SQLProject.ipynb\" target=\"_parent\"><img src=\"https://colab.research.google.com/assets/colab-badge.svg\" alt=\"Open In Colab\"/></a>"
      ]
    },
    {
      "cell_type": "code",
      "execution_count": null,
      "metadata": {
        "id": "Menju6lcNGBo"
      },
      "outputs": [],
      "source": [
        "#Code to avoid prettytable default error.\n",
        "!pip install ipython-sql prettytable\n",
        "\n",
        "import prettytable\n",
        "\n",
        "prettytable.DEFAULT = 'DEFAULT'\n"
      ]
    },
    {
      "cell_type": "code",
      "source": [
        "#Install Pandas\n",
        "!pip install pandas"
      ],
      "metadata": {
        "id": "YzMYSiAQONub"
      },
      "execution_count": null,
      "outputs": []
    },
    {
      "cell_type": "code",
      "source": [
        "# Creating a connection to your SQLite database (con)\n",
        "import sqlite3\n",
        "con = sqlite3.connect(\"NZDemographics.db\")\n",
        "cur = con.cursor()"
      ],
      "metadata": {
        "id": "HJnVydMWOPfY"
      },
      "execution_count": null,
      "outputs": []
    },
    {
      "cell_type": "code",
      "source": [
        "# uploading files from my local maching to google drive\n",
        "# those files where downloaded from the following website: https://www.stats.govt.nz/large-datasets/csv-files-for-download/\n",
        "from google.colab import files\n",
        "uploaded = files.upload()\n",
        "\n",
        "# load the CSV into a DataFrame\n",
        "import pandas as pd\n",
        "df1 = pd.read_csv('DemographicsByEthnicity.csv')\n",
        "df2 = pd.read_csv('Ethnic.csv')\n",
        "df3 = pd.read_csv('Area.csv')\n",
        "df4 = pd.read_csv('Sex.csv')\n",
        "df5 = pd.read_csv('Age.csv')\n",
        "df6 = pd.read_csv('Year.csv')"
      ],
      "metadata": {
        "id": "2SdTfUd0N7oF"
      },
      "execution_count": null,
      "outputs": []
    },
    {
      "cell_type": "code",
      "source": [
        "# Insert DataFrames into SQL tables\n",
        "df1.to_sql(\"DemographicsByEthnicity\", con, if_exists='replace', index=False, method=\"multi\", chunksize=1000)\n",
        "df2.to_sql(\"Ethnic\", con, if_exists='replace', index=False, method=\"multi\", chunksize=1000)\n",
        "df3.to_sql(\"Area\", con, if_exists='replace', index=False, method=\"multi\", chunksize=1000)\n",
        "df4.to_sql(\"Sex\", con, if_exists='replace', index=False, method=\"multi\", chunksize=1000)\n",
        "df5.to_sql(\"Age\", con, if_exists='replace', index=False, method=\"multi\", chunksize=1000)\n",
        "df6.to_sql(\"Year\", con, if_exists='replace', index=False, method=\"multi\", chunksize=1000)"
      ],
      "metadata": {
        "id": "5zQy-fO_N-rp"
      },
      "execution_count": null,
      "outputs": []
    },
    {
      "cell_type": "code",
      "source": [
        "#Load the SQL Magic module\n",
        "!pip install ipython-sql\n",
        "%load_ext sql\n",
        "%sql sqlite:///NZDemographics.db\n",
        "%reload_ext sql"
      ],
      "metadata": {
        "id": "jwKNPsWDOBfk"
      },
      "execution_count": null,
      "outputs": []
    },
    {
      "cell_type": "code",
      "source": [
        "# count number of distinct ethnicity codes in the table Ethnic\n",
        "%sql SELECT DISTINCT COUNT(Code) FROM Ethnic"
      ],
      "metadata": {
        "id": "pOMDuZVnP9fQ"
      },
      "execution_count": null,
      "outputs": []
    },
    {
      "cell_type": "code",
      "source": [
        "# show the most present gender using a sub-query\n",
        "%sql SELECT s.description \\\n",
        "     FROM Sex s \\\n",
        "     WHERE s.code = (SELECT Sex FROM DemographicsByEthnicity GROUP BY Sex ORDER BY COUNT(*) DESC LIMIT 1)"
      ],
      "metadata": {
        "id": "gnRzJcZYO01P"
      },
      "execution_count": null,
      "outputs": []
    },
    {
      "cell_type": "code",
      "source": [
        "# shows the different tables of my database and their entities\n",
        "\n",
        "# Step 1: Get the list of tables\n",
        "cur.execute(\"SELECT name FROM sqlite_master WHERE type='table';\")\n",
        "tables = cur.fetchall()\n",
        "\n",
        "# Step 2: Loop through each table and fetch its entities\n",
        "for table in tables:\n",
        "    table_name = table[0]\n",
        "    print(f\"Columns in table {table_name}:\")\n",
        "\n",
        "    # Fetch the entity for the current table\n",
        "    cur.execute(f\"PRAGMA table_info({table_name});\")\n",
        "    columns = cur.fetchall()\n",
        "\n",
        "    # Display the entity names\n",
        "    for column in columns:\n",
        "        print(f\"- {column[1]}\")  # column[1] contains the column name\n",
        "    print()  # Blank line between tables\n",
        "\n",
        "# Close the connection\n",
        "con.close()"
      ],
      "metadata": {
        "id": "kmU3YKGNeJD3"
      },
      "execution_count": null,
      "outputs": []
    }
  ]
}