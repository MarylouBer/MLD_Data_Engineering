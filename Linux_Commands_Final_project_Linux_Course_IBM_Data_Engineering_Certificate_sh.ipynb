{
  "nbformat": 4,
  "nbformat_minor": 0,
  "metadata": {
    "colab": {
      "provenance": [],
      "authorship_tag": "ABX9TyOvmXJBXp01bdTvUbcPKXQ7",
      "include_colab_link": true
    },
    "kernelspec": {
      "name": "python3",
      "display_name": "Python 3"
    },
    "language_info": {
      "name": "python"
    }
  },
  "cells": [
    {
      "cell_type": "markdown",
      "metadata": {
        "id": "view-in-github",
        "colab_type": "text"
      },
      "source": [
        "<a href=\"https://colab.research.google.com/github/MarylouBer/MLD_Data_Engineering/blob/main/Linux_Commands_Final_project_Linux_Course_IBM_Data_Engineering_Certificate_sh.ipynb\" target=\"_parent\"><img src=\"https://colab.research.google.com/assets/colab-badge.svg\" alt=\"Open In Colab\"/></a>"
      ]
    },
    {
      "cell_type": "code",
      "execution_count": null,
      "metadata": {
        "id": "bFlv80-Swx4K"
      },
      "outputs": [],
      "source": [
        "#!/bin/bash\n",
        "\n",
        "# This checks if the number of arguments is correct\n",
        "# If the number of arguments is incorrect ( $# != 2) print error message and exit\n",
        "if [[ $# != 2 ]]\n",
        "then\n",
        "  echo \"backup.sh target_directory_name destination_directory_name\"\n",
        "  exit\n",
        "fi\n",
        "\n",
        "# This checks if argument 1 and argument 2 are valid directory paths\n",
        "if [[ ! -d $1 ]] || [[ ! -d $2 ]]\n",
        "then\n",
        "  echo \"Invalid directory path provided\"\n",
        "  exit\n",
        "fi\n",
        "\n",
        "# Set two variables equal to the values of the first and second command line arguments\n",
        "targetDirectory=$1\n",
        "destinationDirectory=$2\n",
        "\n",
        "# Display the values of the two command line arguments in the terminal.\n",
        "echo \"Target Directory: $targetDirectory\"\n",
        "echo \"Destination Directory: $destinationDirectory\"\n",
        "\n",
        "# Define a variable called currentTS as the current timestamp, expressed in seconds.\n",
        "currentTS=$(date +%s)\n",
        "\n",
        "# Define a variable called backupFileName to store the name of the archived and compressed backup file that the script will create.\n",
        "backupFileName=\"backup-$currentTS.tar.gz\"\n",
        "\n",
        "# Define a variable called origAbsPath with the absolute path of the current directory as the variable's value.\n",
        "origAbsPath=$(pwd)\n",
        "\n",
        "# Define a variable called destAbsPath whose value equals the absolute path of the destination directory.\n",
        "cd \"$destinationDirectory\"\n",
        "destAbsPath=$(pwd)\n",
        "\n",
        "# Change directories from the current working directory to the target directory targetDirectory.\n",
        "cd \"$origAbsPath\"\n",
        "cd \"$targetDirectory\"\n",
        "\n",
        "# Define a numerical variable called yesterdayTS as the timestamp (in seconds) 24 hours prior to the current timestamp, currentTS.\n",
        "yesterdayTS=$(($currentTS - 24 * 60 * 60))\n",
        "\n",
        "# Declare a variable called toBackup, which is an array\n",
        "declare -a toBackup\n",
        "\n",
        "# write a command that will return all files and directories in the current folder.\n",
        "for file in $(ls)\n",
        "do\n",
        "  # Check whether the $file was modified within the last 24 hours.\n",
        "  if [[ $(date -r $file +%s) -gt $yesterdayTS ]]\n",
        "  # Add the $file that was updated in the past 24-hours to the toBackup array.\n",
        "  then toBackup+=($file)\n",
        "  fi\n",
        "done\n",
        "\n",
        "# Compress and archive the files, using the $toBackup array of filenames, to a file with the name backupFileName.\n",
        "tar -czvf \"$backupFileName\" \"${toBackup[@]}\"\n",
        "\n",
        "# Move the file backupFileName to the destination directory located at destAbsPath\n",
        "mv \"$backupFileName\" \"$destAbsPath\"\n",
        "\n",
        "\n"
      ]
    }
  ]
}