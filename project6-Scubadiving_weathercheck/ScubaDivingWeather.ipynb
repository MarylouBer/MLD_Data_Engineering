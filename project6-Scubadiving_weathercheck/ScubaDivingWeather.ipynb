{
  "nbformat": 4,
  "nbformat_minor": 0,
  "metadata": {
    "colab": {
      "provenance": [],
      "authorship_tag": "ABX9TyMR3FQM/yB+euqI6wfilkYS",
      "include_colab_link": true
    },
    "kernelspec": {
      "name": "python3",
      "display_name": "Python 3"
    },
    "language_info": {
      "name": "python"
    }
  },
  "cells": [
    {
      "cell_type": "markdown",
      "metadata": {
        "id": "view-in-github",
        "colab_type": "text"
      },
      "source": [
        "<a href=\"https://colab.research.google.com/github/MarylouBer/MLD_Python/blob/main/ScubaDivingWeather.ipynb\" target=\"_parent\"><img src=\"https://colab.research.google.com/assets/colab-badge.svg\" alt=\"Open In Colab\"/></a>"
      ]
    },
    {
      "cell_type": "code",
      "execution_count": 45,
      "metadata": {
        "colab": {
          "base_uri": "https://localhost:8080/"
        },
        "id": "nE43tSUJRHqB",
        "outputId": "30554535-43cc-44b8-c721-4aa8f6edc099"
      },
      "outputs": [
        {
          "output_type": "stream",
          "name": "stdout",
          "text": [
            "Enter the city where you will be diving: Marseille\n",
            "Error fetching data\n",
            "None\n"
          ]
        }
      ],
      "source": [
        "#installing the reports module to interact with the weather website API\n",
        "import requests\n",
        "\n",
        "\n",
        "#fetching weather datas\n",
        "def get_weather(city, api_key):\n",
        "    base_url = \"http://api.openweathermap.org/data/2.5/weather\"\n",
        "    params = {\n",
        "        'q': city,\n",
        "        'appid': api_key,\n",
        "        'units': 'metric' #to get the answer in celsius\n",
        "    }\n",
        "\n",
        "    response = requests.get(base_url, params=params)\n",
        "    #checking that we get an answer from the website and if not it will print out an error\n",
        "    if response.status_code == 200:\n",
        "      data = response.json()\n",
        "\n",
        "        # Accessing the weather description\n",
        "        # As we can see in the json response (which is a dict) the weather key maps to a list of dictionary\n",
        "        # Therefore to access the description field, we access the first dict of the list of the weather key and we get to the key description\n",
        "      weather_description = data['weather'][0]['description'].lower()\n",
        "\n",
        "        # Print a message based on the weather description\n",
        "      if 'clear sky' in weather_description:\n",
        "          print(\"The sky is clear, you are good to go.\")\n",
        "      else:\n",
        "          print(\"Check the weather forecast before going.\")\n",
        "      return data\n",
        "\n",
        "    else:\n",
        "        print(\"Error fetching data\")\n",
        "        return None\n",
        "\n",
        "#Enter the city where you will be diving\n",
        "city = input(\"Enter the city where you will be diving: \")\n",
        "\n",
        "#enter your api_key (get it from the openweathermap website) or you will get the message \"Error fetching data\"\n",
        "print(get_weather(city, 'your api_key'))"
      ]
    },
    {
      "cell_type": "code",
      "source": [
        "ä"
      ],
      "metadata": {
        "id": "mmp-Pzg1nTeX"
      },
      "execution_count": null,
      "outputs": []
    }
  ]
}