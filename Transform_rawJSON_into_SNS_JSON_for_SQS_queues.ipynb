{
  "nbformat": 4,
  "nbformat_minor": 0,
  "metadata": {
    "colab": {
      "provenance": [],
      "authorship_tag": "ABX9TyMZJXLR78U2hZYzKNU4AdJQ",
      "include_colab_link": true
    },
    "kernelspec": {
      "name": "python3",
      "display_name": "Python 3"
    },
    "language_info": {
      "name": "python"
    }
  },
  "cells": [
    {
      "cell_type": "markdown",
      "metadata": {
        "id": "view-in-github",
        "colab_type": "text"
      },
      "source": [
        "<a href=\"https://colab.research.google.com/github/MarylouBer/MLD_Data_Engineering_portfolio/blob/main/Transform_rawJSON_into_SNS_JSON_for_SQS_queues.ipynb\" target=\"_parent\"><img src=\"https://colab.research.google.com/assets/colab-badge.svg\" alt=\"Open In Colab\"/></a>"
      ]
    },
    {
      "cell_type": "code",
      "execution_count": null,
      "metadata": {
        "id": "CXXwPQtLpEcE"
      },
      "outputs": [],
      "source": [
        "import json\n",
        "import uuid\n",
        "import random\n",
        "from datetime import datetime\n",
        "\n",
        "def process_file_based_on_entity(file_path):\n",
        "\n",
        "    # Step 1: Read the file and parse the JSON content\n",
        "    with open(file_path, 'r') as file:\n",
        "        rawjson = json.load(file)\n",
        "\n",
        "    # Step 2: Check the entity type and call the appropriate function. Each of these types of entity have a different payload structure\n",
        "    entity = rawjson.get('entity', '')\n",
        "\n",
        "    if entity in (\"XX\",\"YY\",\"ZZ\"):\n",
        "        print(\"Processing as payload format 1...\")\n",
        "        transform_rawjson_to_snsjson_format1(file_path)\n",
        "    elif entity in (\"AA\",\"BB\"):\n",
        "        print(\"Processing as payload format 2...\")\n",
        "        transform_rawjson_to_snsjson_format2(file_path)\n",
        "    else:\n",
        "        print(\"Unsupported entity type!\")\n",
        "\n",
        "\n",
        "def transform_rawjson_to_snsjson_format1(file_path):\n",
        "\n",
        "    # Step 1: Read + Parse the orginal raw json file\n",
        "    with open(file_path, 'r') as file:\n",
        "        rawjson = file.read()\n",
        "        parsedrawjson = json.loads(rawjson) #we also need to parse it to be able use the logic .get\n",
        "\n",
        "    # Step 3: Build the nested message for XYZ markets\n",
        "    message = {\n",
        "        \"country_code\": parsedrawjson.get(\"entity\", \"\")[-1:], #we need to add manually the country code as it is not in the raw json payload\n",
        "        \"event_id\": str(uuid.uuid4()),\n",
        "        \"data\": parsedrawjson, #content of our raw json payload\n",
        "        \"request_id\": str(uuid.uuid4()),\n",
        "        \"event_time\": datetime.utcnow().isoformat() + \"Z\",\n",
        "        \"event_time_ms\": datetime.utcnow().isoformat() + \"Z\"\n",
        "    }\n",
        "\n",
        "    # Step 4: Build the SNS json\n",
        "    snsjson = {\n",
        "        \"Type\": \"Notification\",\n",
        "        \"MessageId\": str(uuid.uuid4()),\n",
        "        \"TopicArn\": \"dummy\",\n",
        "        \"Message\": json.dumps(message),\n",
        "        \"Timestamp\": datetime.utcnow().isoformat() + \"Z\",\n",
        "        \"SignatureVersion\": \"1\",\n",
        "        \"Signature\": \"dummy-signature\",\n",
        "        \"SigningCertURL\": \"dummy\",\n",
        "        \"UnsubscribeURL\": \"dummy\"\n",
        "    }\n",
        "\n",
        "    # Step 5: Print nicely\n",
        "    print(json.dumps(snsjson, indent=2))\n",
        "\n",
        "\n",
        "def transform_rawjson_to_snsjson_format2(file_path):\n",
        "\n",
        "    # Step 1: Read the original raw json file\n",
        "    with open(file_path, 'r') as file:\n",
        "        rawjson = file.read() #file.read only as we don't need to parse it as we don't use the .get logic here\n",
        "\n",
        "    # Step 2: Build the SNS json (no need to have a previous step, all needed data is in the rawjson)\n",
        "    snsjson = {\n",
        "        \"Type\": \"Notification\",\n",
        "        \"MessageId\": str(uuid.uuid4()),\n",
        "        \"TopicArn\": \"dummy\",\n",
        "        \"Message\": rawjson,\n",
        "        \"Timestamp\": datetime.utcnow().isoformat() + \"Z\",\n",
        "        \"SignatureVersion\": \"1\",\n",
        "        \"Signature\": \"dummy-signature\",\n",
        "        \"SigningCertURL\": \"dummy\",\n",
        "        \"UnsubscribeURL\": \"dummy\"\n",
        "    }\n",
        "\n",
        "    # Step 3: Print nicely\n",
        "    print(json.dumps(snsjson, indent=2))\n",
        "\n",
        "\n",
        "# --- Run the function with your file ---\n",
        "process_file_based_on_entity('/Users/xxx/Documents/xxx.json')"
      ]
    }
  ]
}